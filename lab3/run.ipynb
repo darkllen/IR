{
 "cells": [
  {
   "cell_type": "code",
   "execution_count": 9,
   "metadata": {},
   "outputs": [],
   "source": [
    "PYTHONPATH = \"/Users/ihoryankin/Study/IR\"\n",
    "import sys\n",
    "sys.path.append(PYTHONPATH)\n",
    "\n",
    "import os\n",
    "import xml.etree.ElementTree as ET\n",
    "import pickle\n",
    "import bz2\n",
    "from lab2.invert_processer import InvertProcessor\n",
    "from lab2.matrix_processer import MatrixProcessor\n",
    "from lab3.coordinate_processer import CoordinateProcessor\n",
    "from lab3.coordinate_searcher import CoordinateSearcher\n",
    "from base.fb2_parser import Fb2Parser\n",
    "from base.normilizer import LemmerNormalizer\n",
    "from base.serializer import JsonSerializer\n",
    "from base.epub_parser import EpubParser\n",
    "from lab3.phrase_processer import PhraseProcessor\n",
    "from base.bool_ops import WordOp, ZeroOp, AndOp, OrOp, NotOp\n",
    "from lab2.bool_searcher_invert import BoolSearcherInvert"
   ]
  },
  {
   "cell_type": "code",
   "execution_count": 2,
   "metadata": {},
   "outputs": [
    {
     "name": "stdout",
     "output_type": "stream",
     "text": [
      "['../books/aleph.gutenberg.org/cache/epub/50/pg50.epub', '../books/aleph.gutenberg.org/cache/epub/56356/pg56356.epub', '../books/aleph.gutenberg.org/cache/epub/21805/pg21805.epub', '../books/aleph.gutenberg.org/cache/epub/56344/pg56344.epub', '../books/aleph.gutenberg.org/cache/epub/58225/pg58225.epub', '../books/aleph.gutenberg.org/cache/epub/56342/pg56342.epub', '../books/aleph.gutenberg.org/cache/epub/56345/pg56345.epub', '../books/aleph.gutenberg.org/cache/epub/51566/pg51566.epub', '../books/aleph.gutenberg.org/cache/epub/127/pg127.epub', '../books/aleph.gutenberg.org/cache/epub/65/pg65.epub', '../books/aleph.gutenberg.org/cache/epub/54434/pg54434.epub', '../books/aleph.gutenberg.org/cache/epub/56355/pg56355.epub', '../books/aleph.gutenberg.org/cache/epub/56354/pg56354.epub', '../books/aleph.gutenberg.org/cache/epub/56353/pg56353.epub', '../books/aleph.gutenberg.org/cache/epub/54435/pg54435.epub', '../books/aleph.gutenberg.org/cache/epub/51563/pg51563.epub', '../books/aleph.gutenberg.org/cache/epub/51564/pg51564.epub', '../books/aleph.gutenberg.org/cache/epub/56340/pg56340.epub', '../books/aleph.gutenberg.org/cache/epub/56347/pg56347.epub', '../books/aleph.gutenberg.org/cache/epub/56349/pg56349.epub', '../books/aleph.gutenberg.org/cache/epub/55351/pg55351.epub', '../books/aleph.gutenberg.org/cache/epub/51565/pg51565.epub', '../books/aleph.gutenberg.org/cache/epub/56348/pg56348.epub', '../books/aleph.gutenberg.org/cache/epub/56346/pg56346.epub', '../books/aleph.gutenberg.org/cache/epub/56341/pg56341.epub', '../books/aleph.gutenberg.org/cache/epub/29765/pg29765.epub', '../books/aleph.gutenberg.org/cache/epub/48762/pg48762.epub']\n"
     ]
    }
   ],
   "source": [
    "root = '../books/aleph.gutenberg.org/cache/epub'\n",
    "books = []\n",
    "for path, subdirs, files in os.walk(root):\n",
    "    for name in files:\n",
    "        if name.endswith('.epub'):\n",
    "            books.append(os.path.join(path, name))\n",
    "print(books)\n"
   ]
  },
  {
   "cell_type": "code",
   "execution_count": 46,
   "metadata": {},
   "outputs": [
    {
     "name": "stderr",
     "output_type": "stream",
     "text": [
      "[nltk_data] Downloading package wordnet to\n",
      "[nltk_data]     /Users/ihoryankin/nltk_data...\n",
      "[nltk_data]   Package wordnet is already up-to-date!\n",
      "/Users/ihoryankin/Study/IR/venv/lib/python3.9/site-packages/ebooklib/epub.py:1395: UserWarning: In the future version we will turn default option ignore_ncx to True.\n",
      "  warnings.warn('In the future version we will turn default option ignore_ncx to True.')\n"
     ]
    },
    {
     "name": "stdout",
     "output_type": "stream",
     "text": [
      "books_num:  10\n",
      "size_mb:  2.208359718322754\n",
      "id=0 name='../books/aleph.gutenberg.org/cache/epub/50/pg50.epub'\n",
      "Error 'Bad Zip file'\n",
      "id=2 name='../books/aleph.gutenberg.org/cache/epub/21805/pg21805.epub'\n",
      "id=3 name='../books/aleph.gutenberg.org/cache/epub/56344/pg56344.epub'\n",
      "id=4 name='../books/aleph.gutenberg.org/cache/epub/58225/pg58225.epub'\n",
      "id=5 name='../books/aleph.gutenberg.org/cache/epub/56342/pg56342.epub'\n",
      "id=6 name='../books/aleph.gutenberg.org/cache/epub/56345/pg56345.epub'\n",
      "id=7 name='../books/aleph.gutenberg.org/cache/epub/51566/pg51566.epub'\n",
      "id=8 name='../books/aleph.gutenberg.org/cache/epub/127/pg127.epub'\n",
      "id=9 name='../books/aleph.gutenberg.org/cache/epub/65/pg65.epub'\n",
      "res_size_mb:  3.236745834350586\n"
     ]
    }
   ],
   "source": [
    "normilizer = LemmerNormalizer()\n",
    "parser = EpubParser(normilizer)\n",
    "serializer = JsonSerializer()\n",
    "processor = PhraseProcessor(parser, serializer)\n",
    "\n",
    "processor.process(books[:10])"
   ]
  },
  {
   "cell_type": "code",
   "execution_count": 28,
   "metadata": {},
   "outputs": [
    {
     "name": "stderr",
     "output_type": "stream",
     "text": [
      "[nltk_data] Downloading package wordnet to\n",
      "[nltk_data]     /Users/ihoryankin/nltk_data...\n",
      "[nltk_data]   Package wordnet is already up-to-date!\n",
      "/Users/ihoryankin/Study/IR/venv/lib/python3.9/site-packages/ebooklib/epub.py:1395: UserWarning: In the future version we will turn default option ignore_ncx to True.\n",
      "  warnings.warn('In the future version we will turn default option ignore_ncx to True.')\n"
     ]
    },
    {
     "name": "stdout",
     "output_type": "stream",
     "text": [
      "books_num:  10\n",
      "size_mb:  2.208359718322754\n",
      "id=0 name='../books/aleph.gutenberg.org/cache/epub/50/pg50.epub'\n",
      "Error 'Bad Zip file'\n",
      "id=2 name='../books/aleph.gutenberg.org/cache/epub/21805/pg21805.epub'\n",
      "id=3 name='../books/aleph.gutenberg.org/cache/epub/56344/pg56344.epub'\n",
      "id=4 name='../books/aleph.gutenberg.org/cache/epub/58225/pg58225.epub'\n",
      "id=5 name='../books/aleph.gutenberg.org/cache/epub/56342/pg56342.epub'\n",
      "id=6 name='../books/aleph.gutenberg.org/cache/epub/56345/pg56345.epub'\n",
      "id=7 name='../books/aleph.gutenberg.org/cache/epub/51566/pg51566.epub'\n",
      "id=8 name='../books/aleph.gutenberg.org/cache/epub/127/pg127.epub'\n",
      "id=9 name='../books/aleph.gutenberg.org/cache/epub/65/pg65.epub'\n",
      "res_size_mb:  3.087723731994629\n"
     ]
    }
   ],
   "source": [
    "normilizer = LemmerNormalizer()\n",
    "parser = EpubParser(normilizer)\n",
    "serializer = JsonSerializer()\n",
    "processor = CoordinateProcessor(parser, serializer)\n",
    "\n",
    "processor.process(books[:10])"
   ]
  },
  {
   "cell_type": "code",
   "execution_count": 59,
   "metadata": {},
   "outputs": [
    {
     "name": "stdout",
     "output_type": "stream",
     "text": [
      "../res/phrase.json\n",
      "[5, 6]\n"
     ]
    }
   ],
   "source": [
    "serializer = JsonSerializer()\n",
    "searcher = BoolSearcherInvert(serializer, '../res/phrase.json', {i for i in range(len(books))})\n",
    "\n",
    "\n",
    "# 'project gutenberg ebook'\n",
    "op = AndOp(ZeroOp('with the'), ZeroOp('the book'))\n",
    "# op = ZeroOp('with the')\n",
    "# op = ZeroOp('the book')\n",
    "a = searcher.search(op)\n",
    "print(a)"
   ]
  },
  {
   "cell_type": "code",
   "execution_count": 45,
   "metadata": {},
   "outputs": [
    {
     "name": "stdout",
     "output_type": "stream",
     "text": [
      "../res/coordinate.json\n",
      "../books/aleph.gutenberg.org/cache/epub/50/pg50.epub\n",
      "['0', '2', '4', '7', '8', '9']\n"
     ]
    }
   ],
   "source": [
    "serializer = JsonSerializer()\n",
    "searcher = CoordinateSearcher(serializer, '../res/coordinate.json', {i for i in range(len(books))})\n",
    "\n",
    "print(books[0])\n",
    "\n",
    "op = AndOp(ZeroOp('project'), ZeroOp('and'))\n",
    "# op = ZeroOp('project')\n",
    "# op = ZeroOp('and')\n",
    "a = searcher.search(op, 10)\n",
    "print(a)"
   ]
  }
 ],
 "metadata": {
  "kernelspec": {
   "display_name": "venv",
   "language": "python",
   "name": "python3"
  },
  "language_info": {
   "codemirror_mode": {
    "name": "ipython",
    "version": 3
   },
   "file_extension": ".py",
   "mimetype": "text/x-python",
   "name": "python",
   "nbconvert_exporter": "python",
   "pygments_lexer": "ipython3",
   "version": "3.9.9"
  },
  "orig_nbformat": 4
 },
 "nbformat": 4,
 "nbformat_minor": 2
}
