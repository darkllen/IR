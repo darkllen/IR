{
 "cells": [
  {
   "cell_type": "code",
   "execution_count": 38,
   "metadata": {},
   "outputs": [
    {
     "name": "stderr",
     "output_type": "stream",
     "text": [
      "[nltk_data] Downloading package wordnet to\n",
      "[nltk_data]     /Users/ihoryankin/nltk_data...\n",
      "[nltk_data]   Package wordnet is already up-to-date!\n"
     ]
    }
   ],
   "source": [
    "PYTHONPATH = \"/Users/ihoryankin/Study/IR\"\n",
    "import sys\n",
    "sys.path.append(PYTHONPATH)\n",
    "\n",
    "import os\n",
    "import xml.etree.ElementTree as ET\n",
    "from base.work_with_fb2 import get_content_iterator, Normalize\n",
    "import pickle\n",
    "import bz2\n",
    "\n"
   ]
  },
  {
   "cell_type": "code",
   "execution_count": 34,
   "metadata": {},
   "outputs": [],
   "source": [
    "lib_dir = '../books/'\n",
    "res_dir = '../res/'"
   ]
  },
  {
   "cell_type": "code",
   "execution_count": 44,
   "metadata": {},
   "outputs": [
    {
     "name": "stdout",
     "output_type": "stream",
     "text": [
      "size_mb:  23.248066902160645\n"
     ]
    }
   ],
   "source": [
    "init_size = 0\n",
    "for filename in os.listdir(lib_dir):\n",
    "    init_size += os.stat(lib_dir + filename).st_size\n",
    "\n",
    "print('size_mb: ', init_size / (1024 * 1024))"
   ]
  },
  {
   "cell_type": "code",
   "execution_count": 39,
   "metadata": {},
   "outputs": [
    {
     "name": "stdout",
     "output_type": "stream",
     "text": [
      "../books/1 - Pratchett - The Color of Magic.fb2 7170 60021\n",
      "../books/10 - Pratchett - Moving pictures.fb2 11234 149624\n",
      "../books/11 - Pratchett - Reaper Man.fb2 13569 224708\n",
      "../books/12 - Pratchett - Witches Abroad.fb2 15456 302630\n",
      "../books/13 - Pratchett - Small Gods.fb2 17283 390453\n",
      "../books/14 - Pratchett - Lords And Ladies.fb2 18803 476269\n",
      "../books/15 - Pratchett - Men at Arms.fb2 20271 566317\n",
      "../books/16 - Pratchett - Soul Music.fb2 21592 658265\n",
      "../books/17 - Pratchett - Interesting Times.fb2 22792 745246\n",
      "../books/18 - Pratchett - Maskerade.fb2 23748 824387\n",
      "../books/19 - Pratchett - Feet of Clay.fb2 24873 911520\n",
      "../books/2 - Pratchett - The Light Fantastic.fb2 25760 969280\n",
      "../books/20 - Pratchett - Hogfather.fb2 26749 1058272\n",
      "../books/21 - Pratchett - Jingo.fb2 27694 1152422\n",
      "../books/22 - Pratchett - The Last Continent.fb2 28588 1240526\n",
      "../books/23 - Pratchett - Carpe Jugulum.fb2 29701 1332128\n",
      "../books/24 - Pratchett - The Fifth Elephant.fb2 30587 1432153\n",
      "../books/25 - Pratchett - The Truth.fb2 31509 1529935\n",
      "../books/26 - Pratchett - Thief of Time.fb2 32313 1622921\n",
      "../books/27 - Pratchett, Kidby - The Last Hero.fb2 32631 1658984\n",
      "../books/28 - Pratchett - The Amazing Maurice and His Educated Rodents.fb2 32831 1717377\n",
      "../books/29 - Pratchett - Night Watch.fb2 33456 1822887\n",
      "../books/3 - Pratchett - Equal Rites.fb2 34042 1883139\n",
      "../books/30 - Pratchett - The Wee Free Men.fb2 34468 1948719\n",
      "../books/31 - Pratchett - Monstrous Regiment.fb2 35295 2063479\n",
      "../books/32 - Pratchett - A Hat Full Of Sky.fb2 35648 2134296\n",
      "../books/33 - Pratchett - Going Postal.fb2 36444 2247870\n",
      "../books/34 - Pratchett - Thud.fb2 37112 2353863\n",
      "../books/35 - Pratchett - Wintersmith.fb2 37405 2409939\n",
      "../books/36 - Pratchett - Making Money.fb2 38160 2515339\n",
      "../books/4 - Pratchett - Mort.fb2 38654 2584375\n",
      "../books/5 - Pratchett - Sourcery.fb2 39144 2658475\n",
      "../books/6 - Pratchett - Wyrd Sisters.fb2 39648 2738283\n",
      "../books/7 - Pratchett - Pyramids.fb2 40308 2820471\n",
      "../books/8 - Pratchett - Guards! Guards!.fb2 40899 2914641\n",
      "../books/9 - Pratchett - Eric.fb2 41133 2948259\n",
      "total_words_num:  2948259\n",
      "unique_words_num:  41133\n",
      "res_size_mb_raw:  0.3357391357421875\n",
      "res_size_mb_pickle:  0.41437244415283203\n",
      "res_size_mb_compress:  0.15424728393554688\n"
     ]
    }
   ],
   "source": [
    "words_num = 0\n",
    "set_of_words = set()\n",
    "\n",
    "for filename in sorted(os.listdir(lib_dir)):\n",
    "    for word in get_content_iterator(lib_dir+filename):\n",
    "        words_num += 1\n",
    "        set_of_words.add(word)\n",
    "    print(lib_dir+filename, len(set_of_words), words_num)\n",
    "\n",
    "print('total_words_num: ', words_num)\n",
    "print('unique_words_num: ', len(set_of_words))\n",
    "\n",
    "with open(res_dir + 'dict_no_stemmer.txt', 'w') as f:\n",
    "    f.writelines(map(lambda x: x+'\\n',set_of_words))\n",
    "    print('res_size_mb_raw: ', os.stat(res_dir + 'dict_no_stemmer.txt').st_size / (1024 * 1024))\n",
    "\n",
    "\n",
    "with open(res_dir + 'dict_no_stemmer_pickle.txt', 'wb') as f:\n",
    "    pickle.dump(set_of_words, f)\n",
    "    print('res_size_mb_pickle: ', os.stat(res_dir + 'dict_no_stemmer_pickle.txt').st_size / (1024 * 1024))\n",
    "\n",
    "\n",
    "with open(res_dir + 'dict_no_stemmer_pickle_compress.txt', 'wb') as f:\n",
    "    comp = bz2.compress(pickle.dumps(set_of_words))\n",
    "    f.write(comp)\n",
    "    print('res_size_mb_compress: ', os.stat(res_dir + 'dict_no_stemmer_pickle_compress.txt').st_size / (1024 * 1024))"
   ]
  },
  {
   "cell_type": "code",
   "execution_count": 40,
   "metadata": {},
   "outputs": [
    {
     "name": "stdout",
     "output_type": "stream",
     "text": [
      "../books/1 - Pratchett - The Color of Magic.fb2 5144 60021\n",
      "../books/10 - Pratchett - Moving pictures.fb2 7621 149624\n",
      "../books/11 - Pratchett - Reaper Man.fb2 9025 224708\n",
      "../books/12 - Pratchett - Witches Abroad.fb2 10179 302630\n",
      "../books/13 - Pratchett - Small Gods.fb2 11195 390453\n",
      "../books/14 - Pratchett - Lords And Ladies.fb2 12102 476269\n",
      "../books/15 - Pratchett - Men at Arms.fb2 12996 566317\n",
      "../books/16 - Pratchett - Soul Music.fb2 13828 658265\n",
      "../books/17 - Pratchett - Interesting Times.fb2 14477 745246\n",
      "../books/18 - Pratchett - Maskerade.fb2 15060 824387\n",
      "../books/19 - Pratchett - Feet of Clay.fb2 15735 911520\n",
      "../books/2 - Pratchett - The Light Fantastic.fb2 16327 969280\n",
      "../books/20 - Pratchett - Hogfather.fb2 16936 1058272\n",
      "../books/21 - Pratchett - Jingo.fb2 17496 1152422\n",
      "../books/22 - Pratchett - The Last Continent.fb2 18036 1240526\n",
      "../books/23 - Pratchett - Carpe Jugulum.fb2 18855 1332128\n",
      "../books/24 - Pratchett - The Fifth Elephant.fb2 19415 1432153\n",
      "../books/25 - Pratchett - The Truth.fb2 20017 1529935\n",
      "../books/26 - Pratchett - Thief of Time.fb2 20510 1622921\n",
      "../books/27 - Pratchett, Kidby - The Last Hero.fb2 20729 1658984\n",
      "../books/28 - Pratchett - The Amazing Maurice and His Educated Rodents.fb2 20858 1717377\n",
      "../books/29 - Pratchett - Night Watch.fb2 21227 1822887\n",
      "../books/3 - Pratchett - Equal Rites.fb2 21592 1883139\n",
      "../books/30 - Pratchett - The Wee Free Men.fb2 21885 1948719\n",
      "../books/31 - Pratchett - Monstrous Regiment.fb2 22406 2063479\n",
      "../books/32 - Pratchett - A Hat Full Of Sky.fb2 22649 2134296\n",
      "../books/33 - Pratchett - Going Postal.fb2 23119 2247870\n",
      "../books/34 - Pratchett - Thud.fb2 23542 2353863\n",
      "../books/35 - Pratchett - Wintersmith.fb2 23746 2409939\n",
      "../books/36 - Pratchett - Making Money.fb2 24234 2515339\n",
      "../books/4 - Pratchett - Mort.fb2 24537 2584375\n",
      "../books/5 - Pratchett - Sourcery.fb2 24817 2658475\n",
      "../books/6 - Pratchett - Wyrd Sisters.fb2 25130 2738283\n",
      "../books/7 - Pratchett - Pyramids.fb2 25531 2820471\n",
      "../books/8 - Pratchett - Guards! Guards!.fb2 25878 2914641\n",
      "../books/9 - Pratchett - Eric.fb2 26018 2948259\n",
      "total_words_num:  2948259\n",
      "unique_words_num:  26018\n",
      "res_size_mb_raw:  0.18741512298583984\n"
     ]
    }
   ],
   "source": [
    "words_num = 0\n",
    "set_of_words = set()\n",
    "for filename in sorted(os.listdir(lib_dir)):\n",
    "    for word in get_content_iterator(lib_dir+filename, normalize=Normalize.STEMMER):\n",
    "        words_num += 1\n",
    "        set_of_words.add(word)\n",
    "    print(lib_dir+filename, len(set_of_words), words_num)\n",
    "\n",
    "print('total_words_num: ', words_num)\n",
    "print('unique_words_num: ', len(set_of_words))\n",
    "\n",
    "with open(res_dir + 'dict_stemmer.txt', 'w') as f:\n",
    "    f.writelines(map(lambda x: x+'\\n',set_of_words))\n",
    "    print('res_size_mb_raw: ', os.stat(res_dir + 'dict_stemmer.txt').st_size / (1024 * 1024))"
   ]
  },
  {
   "cell_type": "code",
   "execution_count": 41,
   "metadata": {},
   "outputs": [
    {
     "name": "stdout",
     "output_type": "stream",
     "text": [
      "../books/1 - Pratchett - The Color of Magic.fb2 6559 60021\n",
      "../books/10 - Pratchett - Moving pictures.fb2 10093 149624\n",
      "../books/11 - Pratchett - Reaper Man.fb2 12108 224708\n",
      "../books/12 - Pratchett - Witches Abroad.fb2 13711 302630\n",
      "../books/13 - Pratchett - Small Gods.fb2 15234 390453\n",
      "../books/14 - Pratchett - Lords And Ladies.fb2 16540 476269\n",
      "../books/15 - Pratchett - Men at Arms.fb2 17801 566317\n",
      "../books/16 - Pratchett - Soul Music.fb2 18932 658265\n",
      "../books/17 - Pratchett - Interesting Times.fb2 19934 745246\n",
      "../books/18 - Pratchett - Maskerade.fb2 20749 824387\n",
      "../books/19 - Pratchett - Feet of Clay.fb2 21706 911520\n",
      "../books/2 - Pratchett - The Light Fantastic.fb2 22498 969280\n",
      "../books/20 - Pratchett - Hogfather.fb2 23361 1058272\n",
      "../books/21 - Pratchett - Jingo.fb2 24174 1152422\n",
      "../books/22 - Pratchett - The Last Continent.fb2 24946 1240526\n",
      "../books/23 - Pratchett - Carpe Jugulum.fb2 25941 1332128\n",
      "../books/24 - Pratchett - The Fifth Elephant.fb2 26712 1432153\n",
      "../books/25 - Pratchett - The Truth.fb2 27526 1529935\n",
      "../books/26 - Pratchett - Thief of Time.fb2 28215 1622921\n",
      "../books/27 - Pratchett, Kidby - The Last Hero.fb2 28489 1658984\n",
      "../books/28 - Pratchett - The Amazing Maurice and His Educated Rodents.fb2 28657 1717377\n",
      "../books/29 - Pratchett - Night Watch.fb2 29184 1822887\n",
      "../books/3 - Pratchett - Equal Rites.fb2 29686 1883139\n",
      "../books/30 - Pratchett - The Wee Free Men.fb2 30061 1948719\n",
      "../books/31 - Pratchett - Monstrous Regiment.fb2 30774 2063479\n",
      "../books/32 - Pratchett - A Hat Full Of Sky.fb2 31084 2134296\n",
      "../books/33 - Pratchett - Going Postal.fb2 31766 2247870\n",
      "../books/34 - Pratchett - Thud.fb2 32357 2353863\n",
      "../books/35 - Pratchett - Wintersmith.fb2 32623 2409939\n",
      "../books/36 - Pratchett - Making Money.fb2 33291 2515339\n",
      "../books/4 - Pratchett - Mort.fb2 33709 2584375\n",
      "../books/5 - Pratchett - Sourcery.fb2 34133 2658475\n",
      "../books/6 - Pratchett - Wyrd Sisters.fb2 34567 2738283\n",
      "../books/7 - Pratchett - Pyramids.fb2 35126 2820471\n",
      "../books/8 - Pratchett - Guards! Guards!.fb2 35637 2914641\n",
      "../books/9 - Pratchett - Eric.fb2 35837 2948259\n",
      "total_words_num:  2948259\n",
      "unique_words_num:  35837\n",
      "res_size_mb_raw:  0.2889108657836914\n"
     ]
    }
   ],
   "source": [
    "words_num = 0\n",
    "set_of_words = set()\n",
    "for filename in sorted(os.listdir(lib_dir)):\n",
    "    for word in get_content_iterator(lib_dir+filename, normalize=Normalize.LEMMER):\n",
    "        words_num += 1\n",
    "        set_of_words.add(word)\n",
    "    print(lib_dir+filename, len(set_of_words), words_num)\n",
    "\n",
    "print('total_words_num: ', words_num)\n",
    "print('unique_words_num: ', len(set_of_words))\n",
    "\n",
    "with open(res_dir + 'dict_lemmer.txt', 'w') as f:\n",
    "    f.writelines(map(lambda x: x+'\\n',set_of_words))\n",
    "    print('res_size_mb_raw: ', os.stat(res_dir + 'dict_lemmer.txt').st_size / (1024 * 1024))"
   ]
  }
 ],
 "metadata": {
  "kernelspec": {
   "display_name": "vevnv",
   "language": "python",
   "name": "python3"
  },
  "language_info": {
   "codemirror_mode": {
    "name": "ipython",
    "version": 3
   },
   "file_extension": ".py",
   "mimetype": "text/x-python",
   "name": "python",
   "nbconvert_exporter": "python",
   "pygments_lexer": "ipython3",
   "version": "3.9.9"
  },
  "orig_nbformat": 4
 },
 "nbformat": 4,
 "nbformat_minor": 2
}
