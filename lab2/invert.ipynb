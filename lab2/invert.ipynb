{
 "cells": [
  {
   "cell_type": "code",
   "execution_count": 4,
   "metadata": {},
   "outputs": [],
   "source": [
    "PYTHONPATH = \"/Users/ihoryankin/Study/IR\"\n",
    "import sys\n",
    "sys.path.append(PYTHONPATH)\n",
    "\n",
    "import os\n",
    "import xml.etree.ElementTree as ET\n",
    "import pickle\n",
    "import bz2\n",
    "from lab2.invert_processer import InvertProcessor\n",
    "from lab2.matrix_processer import MatrixProcessor\n",
    "from base.fb2_parser import Fb2Parser\n",
    "from base.normilizer import LemmerNormalizer\n",
    "from base.serializer import JsonSerializer\n",
    "from base.epub_parser import EpubParser\n",
    "from lab2.bool_searcher_invert import BoolSearcherInvert\n",
    "from base.bool_ops import WordOp, ZeroOp, AndOp, OrOp, NotOp\n",
    "from lab2.bool_matrix_searcher import BoolSearcherMatrix"
   ]
  },
  {
   "cell_type": "code",
   "execution_count": 5,
   "metadata": {},
   "outputs": [
    {
     "name": "stdout",
     "output_type": "stream",
     "text": [
      "['../books/aleph.gutenberg.org/cache/epub/50/pg50.epub', '../books/aleph.gutenberg.org/cache/epub/56356/pg56356.epub', '../books/aleph.gutenberg.org/cache/epub/21805/pg21805.epub', '../books/aleph.gutenberg.org/cache/epub/56344/pg56344.epub', '../books/aleph.gutenberg.org/cache/epub/58225/pg58225.epub', '../books/aleph.gutenberg.org/cache/epub/56342/pg56342.epub', '../books/aleph.gutenberg.org/cache/epub/56345/pg56345.epub', '../books/aleph.gutenberg.org/cache/epub/51566/pg51566.epub', '../books/aleph.gutenberg.org/cache/epub/127/pg127.epub', '../books/aleph.gutenberg.org/cache/epub/65/pg65.epub', '../books/aleph.gutenberg.org/cache/epub/54434/pg54434.epub', '../books/aleph.gutenberg.org/cache/epub/56355/pg56355.epub', '../books/aleph.gutenberg.org/cache/epub/56354/pg56354.epub', '../books/aleph.gutenberg.org/cache/epub/56353/pg56353.epub', '../books/aleph.gutenberg.org/cache/epub/54435/pg54435.epub', '../books/aleph.gutenberg.org/cache/epub/51563/pg51563.epub', '../books/aleph.gutenberg.org/cache/epub/51564/pg51564.epub', '../books/aleph.gutenberg.org/cache/epub/56340/pg56340.epub', '../books/aleph.gutenberg.org/cache/epub/56347/pg56347.epub', '../books/aleph.gutenberg.org/cache/epub/56349/pg56349.epub', '../books/aleph.gutenberg.org/cache/epub/55351/pg55351.epub', '../books/aleph.gutenberg.org/cache/epub/51565/pg51565.epub', '../books/aleph.gutenberg.org/cache/epub/56348/pg56348.epub', '../books/aleph.gutenberg.org/cache/epub/56346/pg56346.epub', '../books/aleph.gutenberg.org/cache/epub/56341/pg56341.epub', '../books/aleph.gutenberg.org/cache/epub/29765/pg29765.epub', '../books/aleph.gutenberg.org/cache/epub/48762/pg48762.epub']\n"
     ]
    }
   ],
   "source": [
    "root = '../books/aleph.gutenberg.org/cache/epub'\n",
    "books = []\n",
    "for path, subdirs, files in os.walk(root):\n",
    "    for name in files:\n",
    "        if name.endswith('.epub'):\n",
    "            books.append(os.path.join(path, name))\n",
    "print(books)\n",
    "\n",
    "\n",
    "# for a in parser.get_iterator('/Users/ihoryankin/Study/IR/books/aleph.gutenberg.org/cache/epub/56353/pg56353.epub'):\n",
    "#     print(a)"
   ]
  },
  {
   "cell_type": "code",
   "execution_count": null,
   "metadata": {},
   "outputs": [],
   "source": [
    "normilizer = LemmerNormalizer()\n",
    "parser = EpubParser(normilizer)\n",
    "serializer = JsonSerializer()\n",
    "processor = InvertProcessor(parser, serializer)\n",
    "\n",
    "processor.process(books)"
   ]
  },
  {
   "cell_type": "code",
   "execution_count": null,
   "metadata": {},
   "outputs": [],
   "source": [
    "normilizer = LemmerNormalizer()\n",
    "parser = EpubParser(normilizer)\n",
    "serializer = JsonSerializer()\n",
    "processor = MatrixProcessor(parser, serializer)\n",
    "\n",
    "processor.process(books)"
   ]
  },
  {
   "cell_type": "code",
   "execution_count": 29,
   "metadata": {},
   "outputs": [
    {
     "name": "stdout",
     "output_type": "stream",
     "text": [
      "../res/invert.json\n",
      "[25, 17, 6]\n"
     ]
    }
   ],
   "source": [
    "serializer = JsonSerializer()\n",
    "searcher = BoolSearcherInvert(serializer, '../res/invert.json', {i for i in range(len(books))})\n",
    "\n",
    "op = OrOp(ZeroOp(\"acoustically\"), ZeroOp(\"accumulation\"))\n",
    "# op = ZeroOp(\"acoustically\")\n",
    "# op = ZeroOp(\"accumulation\")\n",
    "a = searcher.search(op)\n",
    "print(a)"
   ]
  },
  {
   "cell_type": "code",
   "execution_count": 23,
   "metadata": {},
   "outputs": [
    {
     "name": "stdout",
     "output_type": "stream",
     "text": [
      "[6, 17, 25]\n"
     ]
    }
   ],
   "source": [
    "serializer = JsonSerializer()\n",
    "searcher = BoolSearcherMatrix(serializer, '../res/matrix.json', '../res/words_sorted.json')\n",
    "\n",
    "op = OrOp(ZeroOp(\"acoustically\"), ZeroOp(\"accumulation\"))\n",
    "# op = ZeroOp(\"acoustically\")\n",
    "# op = ZeroOp(\"accumulation\")\n",
    "a = searcher.search(op)\n",
    "print(a)\n"
   ]
  }
 ],
 "metadata": {
  "kernelspec": {
   "display_name": "venv",
   "language": "python",
   "name": "python3"
  },
  "language_info": {
   "codemirror_mode": {
    "name": "ipython",
    "version": 3
   },
   "file_extension": ".py",
   "mimetype": "text/x-python",
   "name": "python",
   "nbconvert_exporter": "python",
   "pygments_lexer": "ipython3",
   "version": "3.9.9"
  },
  "orig_nbformat": 4
 },
 "nbformat": 4,
 "nbformat_minor": 2
}
