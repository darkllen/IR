{
 "cells": [
  {
   "cell_type": "code",
   "execution_count": 91,
   "metadata": {},
   "outputs": [],
   "source": [
    "PYTHONPATH = \"/Users/ihoryankin/Study/IR\"\n",
    "import sys\n",
    "sys.path.append(PYTHONPATH)\n",
    "\n",
    "import os\n",
    "import xml.etree.ElementTree as ET\n",
    "import pickle\n",
    "import bz2\n",
    "from lab2.invert_processer import InvertProcessor\n",
    "from lab2.matrix_processer import MatrixProcessor\n",
    "from base.fb2_parser import Fb2Parser\n",
    "from base.normilizer import LemmerNormalizer\n",
    "from base.serializer import JsonSerializer\n",
    "from base.epub_parser import EpubParser\n",
    "from lab2.bool_searcher_invert import BoolSearcherInvert\n",
    "from lab2.bool_ops import WordOp, ZeroOp, AndOp, OrOp, NotOp\n",
    "from lab2.bool_matrix_searcher import BoolSearcherMatrix"
   ]
  },
  {
   "cell_type": "code",
   "execution_count": null,
   "metadata": {},
   "outputs": [],
   "source": [
    "root = '../books/aleph.gutenberg.org/cache/epub'\n",
    "books = []\n",
    "for path, subdirs, files in os.walk(root):\n",
    "    for name in files:\n",
    "        if name.endswith('.epub'):\n",
    "            books.append(os.path.join(path, name))\n",
    "print(books)\n",
    "\n",
    "\n",
    "# for a in parser.get_iterator('/Users/ihoryankin/Study/IR/books/aleph.gutenberg.org/cache/epub/56353/pg56353.epub'):\n",
    "#     print(a)"
   ]
  },
  {
   "cell_type": "code",
   "execution_count": null,
   "metadata": {},
   "outputs": [],
   "source": [
    "normilizer = LemmerNormalizer()\n",
    "parser = EpubParser(normilizer)\n",
    "serializer = JsonSerializer()\n",
    "processor = InvertProcessor(parser, serializer)\n",
    "\n",
    "processor.process(books)"
   ]
  },
  {
   "cell_type": "code",
   "execution_count": null,
   "metadata": {},
   "outputs": [],
   "source": [
    "normilizer = LemmerNormalizer()\n",
    "parser = EpubParser(normilizer)\n",
    "serializer = JsonSerializer()\n",
    "processor = MatrixProcessor(parser, serializer)\n",
    "\n",
    "processor.process(books)"
   ]
  },
  {
   "cell_type": "code",
   "execution_count": null,
   "metadata": {},
   "outputs": [],
   "source": [
    "serializer = JsonSerializer()\n",
    "searcher = BoolSearcherInvert(serializer, '', {})"
   ]
  },
  {
   "cell_type": "code",
   "execution_count": 112,
   "metadata": {},
   "outputs": [
    {
     "name": "stdout",
     "output_type": "stream",
     "text": [
      "[25]\n"
     ]
    }
   ],
   "source": [
    "serializer = JsonSerializer()\n",
    "searcher = BoolSearcherMatrix(serializer, '../res/matrix.json', '../res/words_sorted.json')\n",
    "\n",
    "op = OrOp(ZeroOp(\"acoustically\"), ZeroOp(\"accumulation\"))\n",
    "a = searcher.search(op)\n",
    "print(a)\n"
   ]
  }
 ],
 "metadata": {
  "kernelspec": {
   "display_name": "venv",
   "language": "python",
   "name": "python3"
  },
  "language_info": {
   "codemirror_mode": {
    "name": "ipython",
    "version": 3
   },
   "file_extension": ".py",
   "mimetype": "text/x-python",
   "name": "python",
   "nbconvert_exporter": "python",
   "pygments_lexer": "ipython3",
   "version": "3.9.9"
  },
  "orig_nbformat": 4
 },
 "nbformat": 4,
 "nbformat_minor": 2
}
